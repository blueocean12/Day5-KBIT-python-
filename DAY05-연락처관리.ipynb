{
 "cells": [
  {
   "cell_type": "code",
   "execution_count": null,
   "id": "8c17949a",
   "metadata": {},
   "outputs": [],
   "source": [
    "\"\"\"\n",
    "프로그래밍시 개발 요령 \n",
    "1. 기능분할 \n",
    "-데이터관리(데이터정의, 데이터관리객체:CRUD)\n",
    "-UI모듈 : 입출력 도구 \n",
    "-IO모듈(네트워크 포함)\n",
    "\"\"\"\n",
    "    "
   ]
  },
  {
   "cell_type": "code",
   "execution_count": 1,
   "id": "ecaf80c0",
   "metadata": {},
   "outputs": [
    {
     "name": "stdout",
     "output_type": "stream",
     "text": [
      "홍, 010-111-2222, None, None\n",
      "홍, 010-111-2222, hong@a.com, 친구\n"
     ]
    }
   ],
   "source": [
    "#데이터관리 - 데이터정의 \n",
    "#관리할 대상 - 연락처\n",
    "#연락처의 속성 - \n",
    "#     이름[필수]: 문자열 \n",
    "#     전화번호[필수]: 문자열 \n",
    "#     이메일[선택]: 문자열 \n",
    "#     (간단한)설명[선택]: 문자열 \n",
    "\n",
    "class Contact:\n",
    "    def __init__(self, name, tel, email = None, note = None): #email=\"\"도 가능 #기본값이 있는 이메일과 노트는 선택사항이므로 기본값을 설정해준다.\n",
    "        self.name = name\n",
    "        self.tel = tel\n",
    "        self.email = email\n",
    "        self.note = note\n",
    "    \n",
    "    #디버깅용 함수 필요 :str\n",
    "    def __str__(self):\n",
    "        return f\"{self.name}, {self.tel}, {self.email}, {self.note}\"\n",
    "    \n",
    "    \n",
    "c = Contact(\"홍\", \"010-111-2222\")\n",
    "print(c)\n",
    "c = Contact(\"홍\", \"010-111-2222\", \"hong@a.com\", \"친구\")\n",
    "print(c)\n"
   ]
  },
  {
   "cell_type": "code",
   "execution_count": 4,
   "id": "7be1c81b",
   "metadata": {},
   "outputs": [
    {
     "name": "stdout",
     "output_type": "stream",
     "text": [
      "홍, 010-111-2222, hong@a.com, 친구\n"
     ]
    }
   ],
   "source": [
    "# #데이터 관리 - 데이터 관리자 객체(Manager) - 이렇게 사용하면 안된다? \n",
    "# contacts = []\n",
    "# #contacts에 등록을 하려면 \n",
    "# contacts.append(c)\n",
    "# #목록을 출력하려면\n",
    "# for c in contacts:\n",
    "#     print(c)\n",
    "# #검색하려면\n",
    "# for c in contacts:\n",
    "#     if c.name ==\"홍길동\":\n",
    "#         print(c)\n"
   ]
  },
  {
   "cell_type": "code",
   "execution_count": 9,
   "id": "de1c576e",
   "metadata": {},
   "outputs": [
    {
     "ename": "SyntaxError",
     "evalue": "invalid syntax (58712582.py, line 17)",
     "output_type": "error",
     "traceback": [
      "\u001b[1;36m  Input \u001b[1;32mIn [9]\u001b[1;36m\u001b[0m\n\u001b[1;33m    else target == \"tel\":\u001b[0m\n\u001b[1;37m         ^\u001b[0m\n\u001b[1;31mSyntaxError\u001b[0m\u001b[1;31m:\u001b[0m invalid syntax\n"
     ]
    }
   ],
   "source": [
    "#데이터 관리 - 데이터 관리자 객체(Manager)\n",
    "class ContactManager:\n",
    "    def __init__(self):\n",
    "        self.contacts = [] #저장공간을 만들어줌 > list VS dict\n",
    "    def add(self, c): #추가\n",
    "        self.contacts.append(c)\n",
    "    def count(self): #갯수\n",
    "        return len(self.contacts)\n",
    "        #핵심키 - 중복이 안되는 '전화번호'로 해야한다.\n",
    "    \n",
    "    \n",
    "    def list(self, target = \"tel\") : #list형식으로 이름을 뿌리겠다 / 코딩확인용\n",
    "        ans = []\n",
    "        for i in self.contacts:\n",
    "            if target == \"name\":\n",
    "                ans.append(c.name)\n",
    "            else target == \"tel\":\n",
    "                ans.append(c.tel)\n",
    "        return ans\n",
    "    \n",
    "\n",
    "#     def list_tel(self) : #잘 코딩했는지 확인\n",
    "#         pass\n",
    "    def search(self, keyword, target=\"name\"): #키워드는 선택사항 \n",
    "        ans =[]\n",
    "        for c in self.contacts:\n",
    "            if target == \"name\":\n",
    "                if keyword in c.name:\n",
    "                    ans.append(c)\n",
    "            else target == \"tel\" :\n",
    "                if keyword in c.tel:\n",
    "                    ans.append(c)\n",
    "                \n",
    "        return ans\n",
    "    \n",
    "    def delete(self, keyword, target = \"name\") : \n",
    "        \n",
    "        for c in self.contacts:\n",
    "            if target == \"name\":\n",
    "                if keyword in c.name:\n",
    "                    self.contact.remove(c)\n",
    "                elif target == 'tel':\n",
    "                    if keyword == c.tel :\n",
    "                        self.contacts.remove(c)\n",
    "                        \n",
    "            \n",
    "        return ans\n",
    "        \n",
    "    \n",
    "#index함수를 통해 문자열을 찾아준다\n",
    "    \n",
    "mgr = ContactManager()\n",
    "c = Contact(\"홍\", \"010-111-2222\")\n",
    "mgr.add(c) #등록\n",
    "\n",
    "c = Contact(\"김\", \"010-222-3333\", \"hong@a.com\", \"친구\")\n",
    "mgr.add(c) #등록\n",
    "\n",
    "print(mgr.count())\n",
    "\n",
    "ans = mgr.list(target = \"tel\")\n",
    "print(ans)\n",
    "\n",
    "c= mgr.search(\"김\")\n",
    "print(c)\n",
    "\n",
    "mgr.delete(\"강\", target=\"name\")\n",
    "print(c)\n",
    "\n",
    "#2개가 저장되어 있습니다,\n",
    "\n",
    "# add count seach, "
   ]
  },
  {
   "cell_type": "code",
   "execution_count": 5,
   "id": "281055f9",
   "metadata": {},
   "outputs": [
    {
     "name": "stdout",
     "output_type": "stream",
     "text": [
      "2\n",
      "['010-111-2222', '010-222-3333']\n",
      "[]\n"
     ]
    }
   ],
   "source": [
    "#강사님코드\n",
    "\n",
    "class ContactManager:\n",
    "    def __init__(self):\n",
    "        self.contacts = []\n",
    "    def add(self, c ):\n",
    "        self.contacts.append(c)\n",
    "\n",
    "    def count(self):\n",
    "        return len(self.contacts)\n",
    "\n",
    "    def list(self, target=\"name\"):\n",
    "        ans = []\n",
    "        for c in self.contacts:\n",
    "            if target==\"name\":\n",
    "                ans.append( c.name )\n",
    "            elif target == \"tel\":\n",
    "                ans.append(c.tel)\n",
    "        return ans \n",
    "\n",
    "    def search(self,keyword, target=\"name\"):\n",
    "        ans = []\n",
    "        for c in self.contacts:\n",
    "            if target==\"name\":\n",
    "                if keyword in c.name:\n",
    "                    ans.append(c)\n",
    "            elif target == \"tel\":\n",
    "                if keyword in c.tel:\n",
    "                    ans.append(c)\n",
    "        return ans\n",
    "\n",
    "#     def delete(self, keyword, target = \"name\"):\n",
    "#     for c in self.contacts:\n",
    "#         if(keyword in getattr(item, target)):\n",
    "#             self.contacts.remove(item)\n",
    "#             return True\n",
    "\n",
    "# return False\n",
    "mgr = ContactManager()\n",
    "c = Contact(\"홍\",\"010-111-2222\")\n",
    "mgr.add( c ) #등록\n",
    "c = Contact(\"김길동\",\"010-222-3333\",\"hong@a.com\",\"친구\")\n",
    "mgr.add( c ) #등록\n",
    "print( mgr.count() )\n",
    "ans = mgr.list(target=\"tel\")\n",
    "print( ans )\n",
    "c = mgr.search( \"강\" )\n",
    "print(c)\n",
    "# mgr.delete(\"강\",target=\"name\")"
   ]
  },
  {
   "cell_type": "code",
   "execution_count": 3,
   "id": "f76768d4",
   "metadata": {},
   "outputs": [
    {
     "name": "stdout",
     "output_type": "stream",
     "text": [
      "홍\n"
     ]
    }
   ],
   "source": [
    "c = Contact(\"홍\", \"010-111-2222\")\n",
    "print(c.name)\n",
    "# print(c[\"name\"])"
   ]
  },
  {
   "cell_type": "code",
   "execution_count": 19,
   "id": "9a17b7cf",
   "metadata": {},
   "outputs": [
    {
     "data": {
      "text/plain": [
       "True"
      ]
     },
     "execution_count": 19,
     "metadata": {},
     "output_type": "execute_result"
    }
   ],
   "source": [
    "\"010-111-2222\".find(\"911\")\n",
    "\"11\" in \"010-111-2222\"\n",
    "# try exception 예외처리"
   ]
  },
  {
   "cell_type": "code",
   "execution_count": null,
   "id": "0f55498a",
   "metadata": {},
   "outputs": [
    {
     "name": "stdout",
     "output_type": "stream",
     "text": [
      "*연락처 관리 *\n",
      "등록갯수: 0개\n",
      "1. 등록 2. 목록 3. 검색 9.종료\n",
      "메뉴번호를 입력 : 1\n",
      "*연락처 관리 *\n",
      "등록갯수: 0개\n",
      "1. 등록 2. 목록 3. 검색 9.종료\n",
      "메뉴번호를 입력 : 2\n",
      "*연락처 관리 *\n",
      "등록갯수: 0개\n",
      "1. 등록 2. 목록 3. 검색 9.종료\n",
      "메뉴번호를 입력 : 3\n",
      "*연락처 관리 *\n",
      "등록갯수: 0개\n",
      "1. 등록 2. 목록 3. 검색 9.종료\n",
      "메뉴번호를 입력 : 9\n",
      "*연락처 관리 *\n",
      "등록갯수: 0개\n",
      "1. 등록 2. 목록 3. 검색 9.종료\n",
      "메뉴번호를 입력 : 9\n",
      "*연락처 관리 *\n",
      "등록갯수: 0개\n",
      "1. 등록 2. 목록 3. 검색 9.종료\n",
      "메뉴번호를 입력 : 9\n",
      "*연락처 관리 *\n",
      "등록갯수: 0개\n",
      "1. 등록 2. 목록 3. 검색 9.종료\n"
     ]
    }
   ],
   "source": [
    "\"\"\"\n",
    "입출력 설계\n",
    "*연락처 관리 *\n",
    "등록갯수: xx개\n",
    "1. 등록 2. 목록 3. 검색 9.종료\n",
    "\"\"\"\n",
    "class ContactUi:\n",
    "    def __init__(self):\n",
    "        self.mgr = ContactManager()\n",
    "    def start(self):\n",
    "        while True:\n",
    "            self.show_main_menu()\n",
    "            try:\n",
    "                ans = int(input(\"메뉴번호를 입력 : \"))\n",
    "            except:\n",
    "                continue\n",
    "    #         while True:\n",
    "    #             self.show_main_menu()\n",
    "    #             ans = int(input(\"메뉴번호를 입력:\"))\n",
    "                if ans == 9: break\n",
    "                if ans ==1:\n",
    "                    self.ui_regist()\n",
    "    #             elif ans ==2:\n",
    "    #                 ui_show_list()\n",
    "    #             elif ans == 3:\n",
    "    #                 ui_find_contact()\n",
    "                    print(\"***프로그램 종료***\")\n",
    "   \n",
    "    def ui_regist(self):\n",
    "        print(\"**연락처 등록**\")\n",
    "        name = input(\"등록할 이름 입력 : \")\n",
    "        tel = input(\"등록할 전화번호 입력 : \")\n",
    "        email = input(\"등록할 이메일 입력 : \")\n",
    "        note = input(\"등록할 설명 입력 : \")\n",
    "        c = Contact(name, tel, email, note)\n",
    "        self.mgr.add(c)\n",
    "        \n",
    "    \n",
    "    def show_main_menu(self):\n",
    "        print(\"*연락처 관리 *\")\n",
    "        print(f\"등록갯수: {self.mgr.count()}개\")\n",
    "        print(\"1. 등록 2. 목록 3. 검색 9.종료\")\n",
    "    \n",
    "\n",
    "ui = ContactUi()\n",
    "ui.start()\n"
   ]
  },
  {
   "cell_type": "code",
   "execution_count": null,
   "id": "847c88d7",
   "metadata": {},
   "outputs": [],
   "source": []
  },
  {
   "cell_type": "code",
   "execution_count": null,
   "id": "a6d80676",
   "metadata": {},
   "outputs": [],
   "source": []
  }
 ],
 "metadata": {
  "kernelspec": {
   "display_name": "Python 3 (ipykernel)",
   "language": "python",
   "name": "python3"
  },
  "language_info": {
   "codemirror_mode": {
    "name": "ipython",
    "version": 3
   },
   "file_extension": ".py",
   "mimetype": "text/x-python",
   "name": "python",
   "nbconvert_exporter": "python",
   "pygments_lexer": "ipython3",
   "version": "3.9.12"
  }
 },
 "nbformat": 4,
 "nbformat_minor": 5
}
